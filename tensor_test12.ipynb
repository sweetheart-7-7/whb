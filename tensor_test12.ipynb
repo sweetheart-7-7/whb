{
 "cells": [
  {
   "cell_type": "code",
   "execution_count": 36,
   "metadata": {},
   "outputs": [],
   "source": [
    "import tensorflow as tf\n",
    "import numpy as np"
   ]
  },
  {
   "cell_type": "code",
   "execution_count": 2,
   "metadata": {},
   "outputs": [],
   "source": [
    "# where\n",
    "a = tf.random.normal([3, 3]) # 正态分布"
   ]
  },
  {
   "cell_type": "code",
   "execution_count": 3,
   "metadata": {},
   "outputs": [
    {
     "data": {
      "text/plain": [
       "<tf.Tensor: shape=(3, 3), dtype=float32, numpy=\n",
       "array([[-1.6253889 ,  1.4843055 , -0.5059514 ],\n",
       "       [-0.7895007 ,  0.6520624 ,  0.27444583],\n",
       "       [-0.701279  , -2.2493167 ,  1.262599  ]], dtype=float32)>"
      ]
     },
     "execution_count": 3,
     "metadata": {},
     "output_type": "execute_result"
    }
   ],
   "source": [
    "a"
   ]
  },
  {
   "cell_type": "code",
   "execution_count": 4,
   "metadata": {},
   "outputs": [],
   "source": [
    "mask = a > 0"
   ]
  },
  {
   "cell_type": "code",
   "execution_count": 5,
   "metadata": {},
   "outputs": [
    {
     "data": {
      "text/plain": [
       "<tf.Tensor: shape=(3, 3), dtype=bool, numpy=\n",
       "array([[False,  True, False],\n",
       "       [False,  True,  True],\n",
       "       [False, False,  True]])>"
      ]
     },
     "execution_count": 5,
     "metadata": {},
     "output_type": "execute_result"
    }
   ],
   "source": [
    "mask"
   ]
  },
  {
   "cell_type": "code",
   "execution_count": 6,
   "metadata": {},
   "outputs": [
    {
     "data": {
      "text/plain": [
       "<tf.Tensor: shape=(4,), dtype=float32, numpy=array([1.4843055 , 0.6520624 , 0.27444583, 1.262599  ], dtype=float32)>"
      ]
     },
     "execution_count": 6,
     "metadata": {},
     "output_type": "execute_result"
    }
   ],
   "source": [
    "# 在a里面取到对应mask为True的值\n",
    "tf.boolean_mask(a, mask)"
   ]
  },
  {
   "cell_type": "code",
   "execution_count": 7,
   "metadata": {},
   "outputs": [],
   "source": [
    "# 返回mask中为True的部分的坐标\n",
    "indices = tf.where(mask)"
   ]
  },
  {
   "cell_type": "code",
   "execution_count": 8,
   "metadata": {},
   "outputs": [
    {
     "data": {
      "text/plain": [
       "<tf.Tensor: shape=(4, 2), dtype=int64, numpy=\n",
       "array([[0, 1],\n",
       "       [1, 1],\n",
       "       [1, 2],\n",
       "       [2, 2]])>"
      ]
     },
     "execution_count": 8,
     "metadata": {},
     "output_type": "execute_result"
    }
   ],
   "source": [
    "indices"
   ]
  },
  {
   "cell_type": "code",
   "execution_count": 9,
   "metadata": {},
   "outputs": [
    {
     "data": {
      "text/plain": [
       "<tf.Tensor: shape=(4,), dtype=float32, numpy=array([1.4843055 , 0.6520624 , 0.27444583, 1.262599  ], dtype=float32)>"
      ]
     },
     "execution_count": 9,
     "metadata": {},
     "output_type": "execute_result"
    }
   ],
   "source": [
    "# 通过索引(坐标)获取对应位置的值\n",
    "tf.gather_nd(a, indices)"
   ]
  },
  {
   "cell_type": "code",
   "execution_count": 10,
   "metadata": {},
   "outputs": [
    {
     "data": {
      "text/plain": [
       "<tf.Tensor: shape=(3, 3), dtype=bool, numpy=\n",
       "array([[False,  True, False],\n",
       "       [False,  True,  True],\n",
       "       [False, False,  True]])>"
      ]
     },
     "execution_count": 10,
     "metadata": {},
     "output_type": "execute_result"
    }
   ],
   "source": [
    "mask"
   ]
  },
  {
   "cell_type": "code",
   "execution_count": 11,
   "metadata": {},
   "outputs": [],
   "source": [
    "A = tf.ones([3, 3])"
   ]
  },
  {
   "cell_type": "code",
   "execution_count": 12,
   "metadata": {},
   "outputs": [],
   "source": [
    "B = tf.zeros([3, 3])"
   ]
  },
  {
   "cell_type": "code",
   "execution_count": 13,
   "metadata": {},
   "outputs": [
    {
     "data": {
      "text/plain": [
       "<tf.Tensor: shape=(3, 3), dtype=float32, numpy=\n",
       "array([[0., 1., 0.],\n",
       "       [0., 1., 1.],\n",
       "       [0., 0., 1.]], dtype=float32)>"
      ]
     },
     "execution_count": 13,
     "metadata": {},
     "output_type": "execute_result"
    }
   ],
   "source": [
    "# mask为True的位置取A中坐标对应的值,mask为False的位置取B中坐标对应的值\n",
    "tf.where(mask, A, B)"
   ]
  },
  {
   "cell_type": "code",
   "execution_count": 26,
   "metadata": {},
   "outputs": [],
   "source": [
    "# scatter_nd\n",
    "indices = tf.constant([[4], [3], [1], [7]])"
   ]
  },
  {
   "cell_type": "code",
   "execution_count": 15,
   "metadata": {},
   "outputs": [],
   "source": [
    "updates = tf.constant([9, 10, 11, 12])"
   ]
  },
  {
   "cell_type": "code",
   "execution_count": 16,
   "metadata": {},
   "outputs": [],
   "source": [
    "shape = tf.constant([8])"
   ]
  },
  {
   "cell_type": "code",
   "execution_count": 28,
   "metadata": {},
   "outputs": [
    {
     "data": {
      "text/plain": [
       "<tf.Tensor: shape=(8,), dtype=int32, numpy=array([ 0, 11,  0, 10,  9,  0,  0, 12], dtype=int32)>"
      ]
     },
     "execution_count": 28,
     "metadata": {},
     "output_type": "execute_result"
    }
   ],
   "source": [
    "# [0,0,0,0,0,0,0,0] 索引为4的位置更新为9,索引为3的位置更新为10....\n",
    "# => [ 0, 11,  0, 10,  9,  0,  0, 12]\n",
    "# 第三个参数代表地板的形状\n",
    "# a[4],a[3],a[1],a[7]\n",
    "tf.scatter_nd(indices, updates, [8])"
   ]
  },
  {
   "cell_type": "code",
   "execution_count": 29,
   "metadata": {},
   "outputs": [
    {
     "data": {
      "text/plain": [
       "<tf.Tensor: shape=(1,), dtype=int32, numpy=array([8], dtype=int32)>"
      ]
     },
     "execution_count": 29,
     "metadata": {},
     "output_type": "execute_result"
    }
   ],
   "source": [
    "shape"
   ]
  },
  {
   "cell_type": "code",
   "execution_count": 30,
   "metadata": {},
   "outputs": [],
   "source": [
    "indices = tf.constant([[0], [2]])"
   ]
  },
  {
   "cell_type": "code",
   "execution_count": 31,
   "metadata": {},
   "outputs": [],
   "source": [
    "updates = tf.constant([ [[5,5,5,5],[6,6,6,6],[7,7,7,7],[8,8,8,8]],\n",
    "                        [[5,5,5,5],[6,6,6,6],[7,7,7,7],[8,8,8,8]] ])"
   ]
  },
  {
   "cell_type": "code",
   "execution_count": 32,
   "metadata": {},
   "outputs": [
    {
     "data": {
      "text/plain": [
       "TensorShape([2, 4, 4])"
      ]
     },
     "execution_count": 32,
     "metadata": {},
     "output_type": "execute_result"
    }
   ],
   "source": [
    "updates.shape"
   ]
  },
  {
   "cell_type": "code",
   "execution_count": 33,
   "metadata": {},
   "outputs": [],
   "source": [
    "# 存储地板的形状\n",
    "shape = tf.constant([4,4,4])"
   ]
  },
  {
   "cell_type": "code",
   "execution_count": 34,
   "metadata": {},
   "outputs": [
    {
     "data": {
      "text/plain": [
       "<tf.Tensor: shape=(4, 4, 4), dtype=int32, numpy=\n",
       "array([[[5, 5, 5, 5],\n",
       "        [6, 6, 6, 6],\n",
       "        [7, 7, 7, 7],\n",
       "        [8, 8, 8, 8]],\n",
       "\n",
       "       [[0, 0, 0, 0],\n",
       "        [0, 0, 0, 0],\n",
       "        [0, 0, 0, 0],\n",
       "        [0, 0, 0, 0]],\n",
       "\n",
       "       [[5, 5, 5, 5],\n",
       "        [6, 6, 6, 6],\n",
       "        [7, 7, 7, 7],\n",
       "        [8, 8, 8, 8]],\n",
       "\n",
       "       [[0, 0, 0, 0],\n",
       "        [0, 0, 0, 0],\n",
       "        [0, 0, 0, 0],\n",
       "        [0, 0, 0, 0]]], dtype=int32)>"
      ]
     },
     "execution_count": 34,
     "metadata": {},
     "output_type": "execute_result"
    }
   ],
   "source": [
    "# 对a[0], a[2]对应的位置进行更新\n",
    "# a[0].shape == [4,4]\n",
    "tf.scatter_nd(indices, updates, shape)"
   ]
  },
  {
   "cell_type": "code",
   "execution_count": 35,
   "metadata": {},
   "outputs": [],
   "source": [
    "points = []"
   ]
  },
  {
   "cell_type": "code",
   "execution_count": 40,
   "metadata": {},
   "outputs": [
    {
     "data": {
      "text/plain": [
       "array([-2., -1.,  0.,  1.,  2.])"
      ]
     },
     "execution_count": 40,
     "metadata": {},
     "output_type": "execute_result"
    }
   ],
   "source": [
    "np.linspace(-2,2,5)"
   ]
  },
  {
   "cell_type": "code",
   "execution_count": 42,
   "metadata": {},
   "outputs": [],
   "source": [
    "for y in np.linspace(-2,2,5):\n",
    "    for x in np.linspace(-2,2,5):\n",
    "        points.append([x,y])"
   ]
  },
  {
   "cell_type": "code",
   "execution_count": 43,
   "metadata": {},
   "outputs": [
    {
     "data": {
      "text/plain": [
       "[[-2.0, -2.0],\n",
       " [-1.0, -2.0],\n",
       " [0.0, -2.0],\n",
       " [1.0, -2.0],\n",
       " [2.0, -2.0],\n",
       " [-2.0, -1.0],\n",
       " [-1.0, -1.0],\n",
       " [0.0, -1.0],\n",
       " [1.0, -1.0],\n",
       " [2.0, -1.0],\n",
       " [-2.0, 0.0],\n",
       " [-1.0, 0.0],\n",
       " [0.0, 0.0],\n",
       " [1.0, 0.0],\n",
       " [2.0, 0.0],\n",
       " [-2.0, 1.0],\n",
       " [-1.0, 1.0],\n",
       " [0.0, 1.0],\n",
       " [1.0, 1.0],\n",
       " [2.0, 1.0],\n",
       " [-2.0, 2.0],\n",
       " [-1.0, 2.0],\n",
       " [0.0, 2.0],\n",
       " [1.0, 2.0],\n",
       " [2.0, 2.0]]"
      ]
     },
     "execution_count": 43,
     "metadata": {},
     "output_type": "execute_result"
    }
   ],
   "source": [
    "points"
   ]
  },
  {
   "cell_type": "code",
   "execution_count": 44,
   "metadata": {},
   "outputs": [],
   "source": [
    "y = tf.linspace(-2., 2, 5)"
   ]
  },
  {
   "cell_type": "code",
   "execution_count": 45,
   "metadata": {},
   "outputs": [
    {
     "data": {
      "text/plain": [
       "<tf.Tensor: shape=(5,), dtype=float32, numpy=array([-2., -1.,  0.,  1.,  2.], dtype=float32)>"
      ]
     },
     "execution_count": 45,
     "metadata": {},
     "output_type": "execute_result"
    }
   ],
   "source": [
    "y"
   ]
  },
  {
   "cell_type": "code",
   "execution_count": 46,
   "metadata": {},
   "outputs": [],
   "source": [
    "x = tf.linspace(-2., 2, 5)"
   ]
  },
  {
   "cell_type": "code",
   "execution_count": 47,
   "metadata": {},
   "outputs": [],
   "source": [
    "# 将x的每一个元素和y的每一个元素按序组合,\n",
    "# 然后将组合后每一个元素的第一列数据放在一个tensor中,将第二列数据放在一起,\n",
    "# points_x和points_y中对应位置的组合即之前的组合\n",
    "points_x,points_y = tf.meshgrid(x, y)"
   ]
  },
  {
   "cell_type": "code",
   "execution_count": 48,
   "metadata": {},
   "outputs": [
    {
     "data": {
      "text/plain": [
       "TensorShape([5, 5])"
      ]
     },
     "execution_count": 48,
     "metadata": {},
     "output_type": "execute_result"
    }
   ],
   "source": [
    "points_x.shape"
   ]
  },
  {
   "cell_type": "code",
   "execution_count": 49,
   "metadata": {},
   "outputs": [
    {
     "data": {
      "text/plain": [
       "<tf.Tensor: shape=(5, 5), dtype=float32, numpy=\n",
       "array([[-2., -1.,  0.,  1.,  2.],\n",
       "       [-2., -1.,  0.,  1.,  2.],\n",
       "       [-2., -1.,  0.,  1.,  2.],\n",
       "       [-2., -1.,  0.,  1.,  2.],\n",
       "       [-2., -1.,  0.,  1.,  2.]], dtype=float32)>"
      ]
     },
     "execution_count": 49,
     "metadata": {},
     "output_type": "execute_result"
    }
   ],
   "source": [
    "points_x"
   ]
  },
  {
   "cell_type": "code",
   "execution_count": 50,
   "metadata": {},
   "outputs": [
    {
     "data": {
      "text/plain": [
       "<tf.Tensor: shape=(5, 5), dtype=float32, numpy=\n",
       "array([[-2., -2., -2., -2., -2.],\n",
       "       [-1., -1., -1., -1., -1.],\n",
       "       [ 0.,  0.,  0.,  0.,  0.],\n",
       "       [ 1.,  1.,  1.,  1.,  1.],\n",
       "       [ 2.,  2.,  2.,  2.,  2.]], dtype=float32)>"
      ]
     },
     "execution_count": 50,
     "metadata": {},
     "output_type": "execute_result"
    }
   ],
   "source": [
    "points_y"
   ]
  },
  {
   "cell_type": "code",
   "execution_count": 51,
   "metadata": {},
   "outputs": [],
   "source": [
    "# [-2,-2],[-1,-2],[0,-1]..."
   ]
  },
  {
   "cell_type": "code",
   "execution_count": 52,
   "metadata": {},
   "outputs": [],
   "source": [
    "# stack([x,y]) x和y对应位置组合\n",
    "points = tf.stack([points_x,points_y],axis=2)"
   ]
  },
  {
   "cell_type": "code",
   "execution_count": 53,
   "metadata": {},
   "outputs": [
    {
     "data": {
      "text/plain": [
       "<tf.Tensor: shape=(5, 5, 2), dtype=float32, numpy=\n",
       "array([[[-2., -2.],\n",
       "        [-1., -2.],\n",
       "        [ 0., -2.],\n",
       "        [ 1., -2.],\n",
       "        [ 2., -2.]],\n",
       "\n",
       "       [[-2., -1.],\n",
       "        [-1., -1.],\n",
       "        [ 0., -1.],\n",
       "        [ 1., -1.],\n",
       "        [ 2., -1.]],\n",
       "\n",
       "       [[-2.,  0.],\n",
       "        [-1.,  0.],\n",
       "        [ 0.,  0.],\n",
       "        [ 1.,  0.],\n",
       "        [ 2.,  0.]],\n",
       "\n",
       "       [[-2.,  1.],\n",
       "        [-1.,  1.],\n",
       "        [ 0.,  1.],\n",
       "        [ 1.,  1.],\n",
       "        [ 2.,  1.]],\n",
       "\n",
       "       [[-2.,  2.],\n",
       "        [-1.,  2.],\n",
       "        [ 0.,  2.],\n",
       "        [ 1.,  2.],\n",
       "        [ 2.,  2.]]], dtype=float32)>"
      ]
     },
     "execution_count": 53,
     "metadata": {},
     "output_type": "execute_result"
    }
   ],
   "source": [
    "points"
   ]
  },
  {
   "cell_type": "markdown",
   "metadata": {},
   "source": [
    "# z = sin(x) + sin(y)"
   ]
  },
  {
   "cell_type": "code",
   "execution_count": 54,
   "metadata": {},
   "outputs": [],
   "source": [
    "import matplotlib.pyplot as plt"
   ]
  },
  {
   "cell_type": "code",
   "execution_count": 63,
   "metadata": {},
   "outputs": [],
   "source": [
    "x = tf.random.normal([4,4,3])"
   ]
  },
  {
   "cell_type": "code",
   "execution_count": 64,
   "metadata": {},
   "outputs": [
    {
     "data": {
      "text/plain": [
       "<tf.Tensor: shape=(4, 4, 3), dtype=float32, numpy=\n",
       "array([[[ 0.8605702 , -1.6922299 , -0.8298989 ],\n",
       "        [ 0.4777882 ,  3.3465009 , -1.7873149 ],\n",
       "        [ 0.8249779 ,  1.9828622 , -0.13135037],\n",
       "        [-1.3050379 ,  1.9621488 , -1.543334  ]],\n",
       "\n",
       "       [[ 0.28095788, -1.2211307 , -1.0443623 ],\n",
       "        [-1.4363613 , -1.538379  , -1.0386435 ],\n",
       "        [-0.44024432, -2.709298  ,  0.3436399 ],\n",
       "        [ 0.75569296,  0.45259908, -0.9904482 ]],\n",
       "\n",
       "       [[ 0.7710029 ,  1.8396314 ,  0.38009962],\n",
       "        [-1.4551747 ,  0.0816291 , -1.0898384 ],\n",
       "        [ 0.5445818 ,  0.142138  , -0.02371774],\n",
       "        [ 0.6020712 ,  0.55913275,  0.98307174]],\n",
       "\n",
       "       [[-1.6945864 , -0.548665  , -0.6138034 ],\n",
       "        [-0.4251204 ,  1.5293301 , -0.6019954 ],\n",
       "        [-0.80505985, -0.21433775, -0.00808296],\n",
       "        [-0.529548  , -0.04289442,  1.4651988 ]]], dtype=float32)>"
      ]
     },
     "execution_count": 64,
     "metadata": {},
     "output_type": "execute_result"
    }
   ],
   "source": [
    "x"
   ]
  },
  {
   "cell_type": "code",
   "execution_count": 65,
   "metadata": {},
   "outputs": [
    {
     "data": {
      "text/plain": [
       "<tf.Tensor: shape=(4, 4), dtype=float32, numpy=\n",
       "array([[ 0.8605702 ,  0.4777882 ,  0.8249779 , -1.3050379 ],\n",
       "       [ 0.28095788, -1.4363613 , -0.44024432,  0.75569296],\n",
       "       [ 0.7710029 , -1.4551747 ,  0.5445818 ,  0.6020712 ],\n",
       "       [-1.6945864 , -0.4251204 , -0.80505985, -0.529548  ]],\n",
       "      dtype=float32)>"
      ]
     },
     "execution_count": 65,
     "metadata": {},
     "output_type": "execute_result"
    }
   ],
   "source": [
    "# 相当于取最后一个维度中,索引为0的值\n",
    "# 此处相当于取第一列\n",
    "x[...,0]"
   ]
  },
  {
   "cell_type": "code",
   "execution_count": 66,
   "metadata": {},
   "outputs": [],
   "source": [
    "def func(x):\n",
    "    \n",
    "    # z = sin(x) + sin(y) \n",
    "    z = tf.math.sin(x[...,0]) + tf.math.sin(x[...,1])\n",
    "    \n",
    "    return z"
   ]
  },
  {
   "cell_type": "code",
   "execution_count": 67,
   "metadata": {},
   "outputs": [],
   "source": [
    "x = tf.linspace(0., 2*3.14, 500)\n",
    "y = tf.linspace(0., 2*3.14, 500)"
   ]
  },
  {
   "cell_type": "code",
   "execution_count": 68,
   "metadata": {},
   "outputs": [],
   "source": [
    "# [500, 500]\n",
    "points_x, points_y = tf.meshgrid(x, y)"
   ]
  },
  {
   "cell_type": "code",
   "execution_count": 72,
   "metadata": {},
   "outputs": [],
   "source": [
    "# [500, 500, 2]\n",
    "points = tf.stack([points_x, points_y], axis=2)"
   ]
  },
  {
   "cell_type": "code",
   "execution_count": 73,
   "metadata": {},
   "outputs": [],
   "source": [
    "z = func(points)"
   ]
  },
  {
   "cell_type": "code",
   "execution_count": 74,
   "metadata": {},
   "outputs": [
    {
     "data": {
      "text/plain": [
       "TensorShape([500, 500])"
      ]
     },
     "execution_count": 74,
     "metadata": {},
     "output_type": "execute_result"
    }
   ],
   "source": [
    "z.shape"
   ]
  },
  {
   "cell_type": "code",
   "execution_count": 86,
   "metadata": {},
   "outputs": [
    {
     "data": {
      "text/plain": [
       "(<tf.Tensor: shape=(), dtype=float32, numpy=1.9999945>,\n",
       " <tf.Tensor: shape=(500, 500), dtype=float32, numpy=\n",
       " array([[ 0.        ,  0.01258484,  0.02516768, ..., -0.02835162,\n",
       "         -0.01576961, -0.00318509],\n",
       "        [ 0.01258484,  0.02516968,  0.03775252, ..., -0.01576678,\n",
       "         -0.00318477,  0.00939975],\n",
       "        [ 0.02516768,  0.03775252,  0.05033537, ..., -0.00318394,\n",
       "          0.00939808,  0.02198259],\n",
       "        ...,\n",
       "        [-0.02835162, -0.01576678, -0.00318394, ..., -0.05670325,\n",
       "         -0.04412123, -0.03153672],\n",
       "        [-0.01576961, -0.00318477,  0.00939808, ..., -0.04412123,\n",
       "         -0.03153921, -0.0189547 ],\n",
       "        [-0.00318509,  0.00939975,  0.02198259, ..., -0.03153672,\n",
       "         -0.0189547 , -0.00637018]], dtype=float32)>)"
      ]
     },
     "execution_count": 86,
     "metadata": {},
     "output_type": "execute_result"
    }
   ],
   "source": [
    "tf.reduce_max(z),z"
   ]
  },
  {
   "cell_type": "code",
   "execution_count": 83,
   "metadata": {},
   "outputs": [
    {
     "data": {
      "image/png": "[encoded data removed]",
      "text/plain": [
       "<Figure size 432x288 with 2 Axes>"
      ]
     },
     "metadata": {
      "needs_background": "light"
     },
     "output_type": "display_data"
    },
    {
     "data": {
      "image/png": "[encoded data removed]",
      "text/plain": [
       "<Figure size 432x288 with 2 Axes>"
      ]
     },
     "metadata": {
      "needs_background": "light"
     },
     "output_type": "display_data"
    }
   ],
   "source": [
    "plt.figure(\"plot 2d func value\")\n",
    "# interpolation 设置了边界的模糊度，或者是图片的模糊度\n",
    "# 参数：origin : {‘upper’, ‘lower’}\n",
    "# 将数组的[0,0]索引放在轴的左上角或左下角。\n",
    "# ‘upper’通常用于矩阵和图像。\n",
    "# 请注意，垂直轴向上指向“下”但向下指向“上”\n",
    "plt.imshow(z, origin='lower', interpolation='none')\n",
    "# 当我们给图配渐变色时，常常需要在图旁边把colorbar显示出来，这里记一下当有多个子图时如何显示colorbar\n",
    "plt.colorbar()\n",
    "\n",
    "plt.figure('plot 2d func contour')\n",
    "# 这个函数主要对网格中每个点的值等于一系列值的时候做出一条条轮廓线，类似于等高线 。\n",
    "# (x,y,z) [x,y]为显示的坐标\n",
    "plt.contour(points_x, points_y, z)\n",
    "plt.colorbar()\n",
    "plt.show()"
   ]
  }
 ],
 "metadata": {
  "kernelspec": {
   "display_name": "Python 3",
   "language": "python",
   "name": "python3"
  },
  "language_info": {
   "codemirror_mode": {
    "name": "ipython",
    "version": 3
   },
   "file_extension": ".py",
   "mimetype": "text/x-python",
   "name": "python",
   "nbconvert_exporter": "python",
   "pygments_lexer": "ipython3",
   "version": "3.7.3"
  }
 },
 "nbformat": 4,
 "nbformat_minor": 4
}
